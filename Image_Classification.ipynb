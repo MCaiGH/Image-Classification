{
  "cells": [
    {
      "cell_type": "markdown",
      "metadata": {
        "id": "371pmjeaWNZC"
      },
      "source": [
        "### Introduction"
      ]
    },
    {
      "cell_type": "markdown",
      "metadata": {
        "id": "_XBfjUduWQ-z"
      },
      "source": [
        "This project aims to develop an image classification algorithm utilizing a neural network.\n",
        "The data is sourced from the CIFAR10 dataset which in itself is a subset of 50000 labeled images taken out of the 80 million tiny images dataset colected by Alex Krizhevsky, Vinod Nair, and Geoffrey Hinton.\n",
        "Details of this dataset are described in the following report: \\\n",
        "Learning Multiple Layers of Features from Tiny Images, Alex Krizhevsky, 2009."
      ]
    },
    {
      "cell_type": "code",
      "execution_count": 18,
      "metadata": {
        "id": "bR-SXQoL41th"
      },
      "outputs": [],
      "source": [
        "from PIL import Image\n",
        "from io import BytesIO\n",
        "import os\n",
        "import matplotlib.pyplot as plt\n",
        "import numpy as np\n",
        "import requests\n",
        "import json\n",
        "import tensorflow as tf\n",
        "from tensorflow.keras import datasets, layers, models\n",
        "import keras\n",
        "import keras_tuner\n",
        "from keras import layers, regularizers\n",
        "from keras.optimizers.legacy import Adam\n",
        "from keras.callbacks import EarlyStopping, TensorBoard"
      ]
    },
    {
      "cell_type": "markdown",
      "metadata": {
        "id": "QRz1GBK0Hex4"
      },
      "source": [
        "# Data loading and preprocessing"
      ]
    },
    {
      "cell_type": "markdown",
      "metadata": {
        "id": "aBdQIeusMikt"
      },
      "source": [
        "## Load Data"
      ]
    },
    {
      "cell_type": "code",
      "execution_count": 4,
      "metadata": {
        "id": "FTonVXYZHaLv",
        "colab": {
          "base_uri": "https://localhost:8080/"
        },
        "outputId": "c9d388d2-cf55-4108-8af7-f4a13ebb0734"
      },
      "outputs": [
        {
          "output_type": "stream",
          "name": "stdout",
          "text": [
            "Downloading data from https://www.cs.toronto.edu/~kriz/cifar-10-python.tar.gz\n",
            "170498071/170498071 [==============================] - 2s 0us/step\n"
          ]
        }
      ],
      "source": [
        "(train_img, train_labels), (test_img, test_labels) = datasets.cifar10.load_data()"
      ]
    },
    {
      "cell_type": "markdown",
      "metadata": {
        "id": "M-aIbywuOziy"
      },
      "source": [
        "## Trim dataset"
      ]
    },
    {
      "cell_type": "code",
      "execution_count": 5,
      "metadata": {
        "colab": {
          "base_uri": "https://localhost:8080/"
        },
        "id": "AmWz70PXL_QL",
        "outputId": "5df0df2f-0569-4ca6-c699-70d4ecd23bc1"
      },
      "outputs": [
        {
          "output_type": "stream",
          "name": "stdout",
          "text": [
            "train_img: (50000, 32, 32, 3)\n",
            "train_labels: (50000, 1)\n",
            "test_img:  (10000, 32, 32, 3)\n",
            "test_labels:  (10000, 1)\n"
          ]
        }
      ],
      "source": [
        "print('train_img: ' + str(train_img.shape))\n",
        "print('train_labels: ' + str(train_labels.shape))\n",
        "print('test_img:  '  + str(test_img.shape))\n",
        "print('test_labels:  '  + str(test_labels.shape))"
      ]
    },
    {
      "cell_type": "code",
      "execution_count": 6,
      "metadata": {
        "id": "Sp693Z_SZUr_"
      },
      "outputs": [],
      "source": [
        "train_img = train_img[:10000]\n",
        "test_img = test_img[:1000]\n",
        "train_labels = train_labels[:10000]\n",
        "test_labels = test_labels[:1000]"
      ]
    },
    {
      "cell_type": "markdown",
      "metadata": {
        "id": "RYyRRTeDZJ5H"
      },
      "source": [
        "## Show a few images"
      ]
    },
    {
      "cell_type": "code",
      "execution_count": 7,
      "metadata": {
        "colab": {
          "base_uri": "https://localhost:8080/",
          "height": 979
        },
        "id": "wFfb7bFRZJQn",
        "outputId": "f1939bff-e9af-4d2d-83e1-d897a1a84216"
      },
      "outputs": [
        {
          "output_type": "display_data",
          "data": {
            "text/plain": [
              "<Figure size 640x480 with 1 Axes>"
            ],
            "image/png": "[encoded data removed]"
          },
          "metadata": {}
        },
        {
          "output_type": "stream",
          "name": "stdout",
          "text": [
            "[6]\n"
          ]
        },
        {
          "output_type": "display_data",
          "data": {
            "text/plain": [
              "<Figure size 640x480 with 1 Axes>"
            ],
            "image/png": "[encoded data removed]"
          },
          "metadata": {}
        },
        {
          "output_type": "stream",
          "name": "stdout",
          "text": [
            "[9]\n"
          ]
        },
        {
          "output_type": "display_data",
          "data": {
            "text/plain": [
              "<Figure size 640x480 with 1 Axes>"
            ],
            "image/png": "[encoded data removed]"
          },
          "metadata": {}
        },
        {
          "output_type": "stream",
          "name": "stdout",
          "text": [
            "[9]\n"
          ]
        },
        {
          "output_type": "display_data",
          "data": {
            "text/plain": [
              "<Figure size 640x480 with 1 Axes>"
            ],
            "image/png": "[encoded data removed]"
          },
          "metadata": {}
        },
        {
          "output_type": "stream",
          "name": "stdout",
          "text": [
            "[4]\n"
          ]
        },
        {
          "output_type": "display_data",
          "data": {
            "text/plain": [
              "<Figure size 640x480 with 1 Axes>"
            ],
            "image/png": "[encoded data removed]"
          },
          "metadata": {}
        },
        {
          "output_type": "stream",
          "name": "stdout",
          "text": [
            "[1]\n"
          ]
        }
      ],
      "source": [
        "classes = ['Plane', 'Car', 'Bird', 'Cat', 'Deer', 'Dog', 'Frog', 'Horse', 'Ship', 'Truck']\n",
        "for i in range(5):\n",
        "  plt.subplot(330 + 1 + i)\n",
        "  plt.imshow(train_img[i], cmap=plt.get_cmap('gray'))\n",
        "  plt.xlabel(classes[train_labels[i][0]])\n",
        "  plt.show()\n",
        "  print(train_labels[i])"
      ]
    },
    {
      "cell_type": "markdown",
      "metadata": {
        "id": "MrQ7GDiQbnN6"
      },
      "source": [
        "## Flatten data"
      ]
    },
    {
      "cell_type": "code",
      "execution_count": 8,
      "metadata": {
        "id": "O9gXYqP8PJt1"
      },
      "outputs": [],
      "source": [
        "train_img = train_img.reshape(train_img.shape[0],-1)\n",
        "test_img = test_img.reshape(test_img.shape[0],-1)"
      ]
    },
    {
      "cell_type": "code",
      "execution_count": 9,
      "metadata": {
        "colab": {
          "base_uri": "https://localhost:8080/"
        },
        "id": "LnZmVj2APTUq",
        "outputId": "eefe0640-85e6-47f5-995f-a47844432fc2"
      },
      "outputs": [
        {
          "output_type": "stream",
          "name": "stdout",
          "text": [
            "train_img: (10000, 3072)\n",
            "train_labels: (10000, 1)\n",
            "test_img:  (1000, 3072)\n",
            "test_labels:  (1000, 1)\n"
          ]
        }
      ],
      "source": [
        "print('train_img: ' + str(train_img.shape))\n",
        "print('train_labels: ' + str(train_labels.shape))\n",
        "print('test_img:  '  + str(test_img.shape))\n",
        "print('test_labels:  '  + str(test_labels.shape))"
      ]
    },
    {
      "cell_type": "markdown",
      "metadata": {
        "id": "r0e8IBfFb0RV"
      },
      "source": [
        "## Normalize data"
      ]
    },
    {
      "cell_type": "code",
      "execution_count": 10,
      "metadata": {
        "id": "D33secyqb3Gn"
      },
      "outputs": [],
      "source": [
        "train_img_norm = train_img/255.0\n",
        "test_img_norm = test_img/255.0"
      ]
    },
    {
      "cell_type": "code",
      "source": [
        "print('train_img: ' + str(train_img_norm.shape))\n",
        "print('train_labels: ' + str(train_labels.shape))\n",
        "print('test_img:  '  + str(test_img_norm.shape))\n",
        "print('test_labels:  '  + str(test_labels.shape))"
      ],
      "metadata": {
        "colab": {
          "base_uri": "https://localhost:8080/"
        },
        "id": "Y4vOXrOImPP3",
        "outputId": "ef3f5df1-0cdd-4c08-bc2a-ead6ad99980f"
      },
      "execution_count": 11,
      "outputs": [
        {
          "output_type": "stream",
          "name": "stdout",
          "text": [
            "train_img: (10000, 3072)\n",
            "train_labels: (10000, 1)\n",
            "test_img:  (1000, 3072)\n",
            "test_labels:  (1000, 1)\n"
          ]
        }
      ]
    },
    {
      "cell_type": "markdown",
      "metadata": {
        "id": "2A61fNGjfR3L"
      },
      "source": [
        "# Begin Neural Network"
      ]
    },
    {
      "cell_type": "code",
      "execution_count": 12,
      "metadata": {
        "id": "QoZtyUljfbOR"
      },
      "outputs": [],
      "source": [
        "def define_model(units, num_layers, activation, lr, l2):\n",
        "    model_layers = [\n",
        "        layers.Dense(units, activation=activation, kernel_regularizer=regularizers.L2(l2=l2), kernel_initializer=keras.initializers.HeNormal())\n",
        "        ] * num_layers\n",
        "    model_layers += [layers.Dense(10)]\n",
        "    model = keras.Sequential(model_layers)\n",
        "    model.compile(loss=keras.losses.SparseCategoricalCrossentropy(from_logits=True), metrics=['accuracy'], optimizer=Adam(learning_rate=lr))\n",
        "    return model"
      ]
    },
    {
      "cell_type": "code",
      "execution_count": 13,
      "metadata": {
        "id": "KVI8ZsnQfj9a"
      },
      "outputs": [],
      "source": [
        "def build_model(hp):\n",
        "    units = hp.Choice(\"units\", [256, 512])\n",
        "    activation = \"relu\"\n",
        "    lr = hp.Float(\"lr\", min_value=1e-5, max_value=1e-1, sampling=\"log\")\n",
        "    l2 = hp.Float(\"l2\", min_value=1e-5, max_value=1e-1, sampling=\"log\")\n",
        "    num_layers = hp.Choice(\"num_layers\", [2, 3, 4])\n",
        "    model = define_model(units=units, num_layers=num_layers, activation=activation, lr=lr, l2=l2)\n",
        "    return model"
      ]
    },
    {
      "cell_type": "markdown",
      "metadata": {
        "id": "UVvQZ8dWhKbr"
      },
      "source": [
        "Mount drive"
      ]
    },
    {
      "cell_type": "code",
      "execution_count": 15,
      "metadata": {
        "colab": {
          "base_uri": "https://localhost:8080/"
        },
        "id": "bGzFhd0-hMlK",
        "outputId": "791e715c-d9ce-4a26-be2b-b5323ca35a4a"
      },
      "outputs": [
        {
          "output_type": "stream",
          "name": "stdout",
          "text": [
            "Mounted at /content/drive\n"
          ]
        }
      ],
      "source": [
        "from google.colab import drive\n",
        "drive.mount('/content/drive')"
      ]
    },
    {
      "cell_type": "markdown",
      "metadata": {
        "id": "MQ-BCnI8hp-q"
      },
      "source": [
        "Initialize Tuner"
      ]
    },
    {
      "cell_type": "code",
      "execution_count": 20,
      "metadata": {
        "id": "_ogVjwJ0hpJt",
        "colab": {
          "base_uri": "https://localhost:8080/"
        },
        "outputId": "ba44d03e-0428-4dfc-88cb-97ca3b76ad64"
      },
      "outputs": [
        {
          "output_type": "stream",
          "name": "stdout",
          "text": [
            "Reloading Tuner from /content/drive/MyDrive/models/classif1/untitled_project/tuner0.json\n"
          ]
        }
      ],
      "source": [
        "tuner = keras_tuner.BayesianOptimization(\n",
        "    hypermodel=build_model,\n",
        "    objective=\"val_loss\",\n",
        "    max_trials=15,\n",
        "    executions_per_trial=1,\n",
        "    overwrite=False,\n",
        "    directory=\"/content/drive/MyDrive/models/classif1\",\n",
        ")"
      ]
    },
    {
      "cell_type": "code",
      "execution_count": 24,
      "metadata": {
        "id": "UNycxqLjhT84"
      },
      "outputs": [],
      "source": [
        "callbacks = [EarlyStopping(monitor=\"val_loss\", patience=2, restore_best_weights=True, start_from_epoch=4)]"
      ]
    },
    {
      "cell_type": "code",
      "execution_count": 27,
      "metadata": {
        "id": "PiQOF9a8hXx7"
      },
      "outputs": [],
      "source": [
        "tuner.search(\n",
        "    train_img,\n",
        "    train_labels,\n",
        "    epochs=20,\n",
        "    verbose=1,\n",
        "    validation_data=(test_img, test_labels),\n",
        "    callbacks=callbacks\n",
        ")"
      ]
    },
    {
      "cell_type": "code",
      "source": [
        "tuner.results_summary(5)"
      ],
      "metadata": {
        "colab": {
          "base_uri": "https://localhost:8080/"
        },
        "id": "p2qLaIjMrTkN",
        "outputId": "6f01ede1-9e17-40b7-ad06-cfd8cad3481f"
      },
      "execution_count": 26,
      "outputs": [
        {
          "output_type": "stream",
          "name": "stdout",
          "text": [
            "Results summary\n",
            "Results in /content/drive/MyDrive/models/classif1/untitled_project\n",
            "Showing 5 best trials\n",
            "Objective(name=\"val_loss\", direction=\"min\")\n",
            "\n",
            "Trial 3 summary\n",
            "Hyperparameters:\n",
            "units: 512\n",
            "lr: 0.00033302053540962636\n",
            "l2: 0.00011647744885988285\n",
            "num_layers: 3\n",
            "Score: 1.7328635454177856\n",
            "\n",
            "Trial 7 summary\n",
            "Hyperparameters:\n",
            "units: 256\n",
            "lr: 1.3529237662984049e-05\n",
            "l2: 2.607982203880015e-05\n",
            "num_layers: 2\n",
            "Score: 1.847999095916748\n",
            "\n",
            "Trial 1 summary\n",
            "Hyperparameters:\n",
            "units: 256\n",
            "lr: 0.0031528006260469975\n",
            "l2: 0.0001597324043783155\n",
            "num_layers: 3\n",
            "Score: 1.863990068435669\n",
            "\n",
            "Trial 4 summary\n",
            "Hyperparameters:\n",
            "units: 256\n",
            "lr: 0.009473033897902664\n",
            "l2: 0.00014456772808282126\n",
            "num_layers: 4\n",
            "Score: 2.0784666538238525\n",
            "\n",
            "Trial 2 summary\n",
            "Hyperparameters:\n",
            "units: 256\n",
            "lr: 0.005930714988257274\n",
            "l2: 0.00018386429549433264\n",
            "num_layers: 2\n",
            "Score: 2.3014602661132812\n"
          ]
        }
      ]
    },
    {
      "cell_type": "markdown",
      "source": [
        "Best model is 3, use it to create a confusion matrix"
      ],
      "metadata": {
        "id": "ZLgtu1LsrvzR"
      }
    },
    {
      "cell_type": "code",
      "source": [
        "import json\n",
        "from sklearn.metrics import confusion_matrix\n",
        "\n",
        "trial_num = \"3\"\n",
        "with open(f\"/content/drive/MyDrive/models/classif1/untitled_project/trial_{trial_num}/trial.json\", \"r\") as f:\n",
        "    trial = json.load(f)\n",
        "hp = trial[\"hyperparameters\"][\"values\"]\n",
        "model = define_model(units=hp[\"units\"], num_layers=hp[\"num_layers\"], activation=\"relu\", lr=hp[\"lr\"],\n",
        "                     l2=hp[\"l2\"])\n",
        "model.load_weights(f\"/content/drive/MyDrive/models/classif1/untitled_project/trial_{trial_num}/checkpoint\")"
      ],
      "metadata": {
        "colab": {
          "base_uri": "https://localhost:8080/"
        },
        "id": "h8Gwc174r4cG",
        "outputId": "18677a6f-6bd0-4083-9c25-3dc958caf944"
      },
      "execution_count": 28,
      "outputs": [
        {
          "output_type": "execute_result",
          "data": {
            "text/plain": [
              "<tensorflow.python.checkpoint.checkpoint.CheckpointLoadStatus at 0x7b17cb2c00a0>"
            ]
          },
          "metadata": {},
          "execution_count": 28
        }
      ]
    },
    {
      "cell_type": "code",
      "source": [
        "y_pred = np.argmax(model.predict(test_img_norm), axis=1)\n",
        "cm = confusion_matrix(test_labels, y_pred)\n",
        "print(cm)"
      ],
      "metadata": {
        "colab": {
          "base_uri": "https://localhost:8080/"
        },
        "id": "ubZhjlVuv85i",
        "outputId": "b57e0f86-a9b8-4c8e-b13c-8c017b1e07e8"
      },
      "execution_count": 29,
      "outputs": [
        {
          "output_type": "stream",
          "name": "stdout",
          "text": [
            "32/32 [==============================] - 2s 9ms/step\n",
            "[[27  0 21  2  5  1  3  5 28 11]\n",
            " [ 3 24  4  2  2  1  1  8 11 33]\n",
            " [ 7  1 44  5 13  4 13  6  6  1]\n",
            " [ 3  1 18 23  7 11 15 10  3 12]\n",
            " [ 7  1 26  2 19  2 15 10  3  5]\n",
            " [ 3  1 20 12  7 19  7 11  3  3]\n",
            " [ 1  1 22  4 10  2 57  7  4  4]\n",
            " [ 3  1 17  3 13  4  6 48  2  5]\n",
            " [ 9  1 10  2  1  2  1  4 64 12]\n",
            " [ 6  5  4  4  2  2  4  6 18 58]]\n"
          ]
        }
      ]
    },
    {
      "cell_type": "markdown",
      "source": [
        "The model struggles to adequately predict between the different classes consistently, for example planes and birds get mixed up oftenly. this model is the strongest at predicting vehicles and worst at predicting animals."
      ],
      "metadata": {
        "id": "3mQwRYOVL58W"
      }
    },
    {
      "cell_type": "code",
      "source": [],
      "metadata": {
        "id": "sirCKxZ8RTeQ"
      },
      "execution_count": null,
      "outputs": []
    }
  ],
  "metadata": {
    "colab": {
      "provenance": []
    },
    "kernelspec": {
      "display_name": "Python 3",
      "name": "python3"
    },
    "language_info": {
      "name": "python"
    }
  },
  "nbformat": 4,
  "nbformat_minor": 0
}